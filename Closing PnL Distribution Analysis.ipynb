{
 "cells": [
  {
   "cell_type": "code",
   "execution_count": 166,
   "metadata": {},
   "outputs": [],
   "source": [
    "#This is risk analysis of our strategies. From historical data, for a certain day of the week and time range within that day\n",
    "#it will calculate all the dates on which the pnl drops below a certain threshold.\n",
    "#It will identify the closing price of the day on all those dates\n",
    "#Then, we plot this closing price to see if we have statistical significance that our pnl will either become positive\n",
    "#or stay negative"
   ]
  },
  {
   "cell_type": "markdown",
   "metadata": {},
   "source": [
    "##### Import Libraries"
   ]
  },
  {
   "cell_type": "code",
   "execution_count": 167,
   "metadata": {},
   "outputs": [],
   "source": [
    "import pandas as pd\n",
    "import numpy as np\n",
    "import matplotlib.pyplot as plt\n",
    "import datetime"
   ]
  },
  {
   "cell_type": "markdown",
   "metadata": {},
   "source": [
    "##### Sort Data into neat DataFrame"
   ]
  },
  {
   "cell_type": "code",
   "execution_count": 168,
   "metadata": {},
   "outputs": [],
   "source": [
    "df = pd.read_csv('data.csv', parse_dates=True, index_col=0)\n",
    "df.drop(columns='long_gamma', inplace=True)\n",
    "df = df.diff()\n",
    "df['Total'] = df['SB6'] + df['SB4v2'] + df['DNIv5'] + df['DNIv6']\n",
    "df.drop(columns = ['SB6', 'SB4v2', 'DNIv5', 'DNIv6'], inplace=True)\n",
    "df.index = pd.to_datetime(df.index, format=\"%d-%m-%Y %H:%M\", dayfirst=True)\n",
    "df['Daily_Cumulative_PnL'] = df.groupby(df.index.date)['Total'].cumsum()\n",
    "df.drop(columns = 'Total', inplace=True)\n",
    "total= 800000\n",
    "percent= 100\n",
    "df_new = (df/total) *percent\n",
    "df_new.index = pd.to_datetime(df_new.index)"
   ]
  },
  {
   "cell_type": "markdown",
   "metadata": {},
   "source": [
    "##### Class to plot distribution"
   ]
  },
  {
   "cell_type": "code",
   "execution_count": 169,
   "metadata": {},
   "outputs": [],
   "source": [
    "class DistributionAnalysis:\n",
    "    def __init__(self, dataframe, weekday, start_time, end_time, threshold):\n",
    "        self.data = dataframe\n",
    "        self.weekday = weekday\n",
    "        self.start_time = start_time\n",
    "        self.end_time = end_time\n",
    "        self.threshold = threshold\n",
    "        \n",
    "\n",
    "      \n",
    "    def day_pnl_filter(self):\n",
    "        day_filter = self.data[self.data.index.weekday == self.weekday]  \n",
    "        filter = (day_filter.index.time >= pd.to_datetime(self.start_time).time()) & \\\n",
    "                (day_filter.index.time <= pd.to_datetime(self.end_time).time()) & \\\n",
    "                (day_filter['Daily_Cumulative_PnL'] < self.threshold)\n",
    "        \n",
    "        days = day_filter[filter]\n",
    "        \n",
    "        drop_days = days.index.normalize()\n",
    "\n",
    "        day_filter['date'] = day_filter.index.normalize()\n",
    "        df_drop_days = day_filter[day_filter['date'].isin(drop_days)]\n",
    "\n",
    "\n",
    "        last_entries = df_drop_days.groupby('date').last()\n",
    "        return last_entries\n",
    "    \n",
    "    def plot_pnl_dist(self, last_entries):\n",
    "        last_entries.plot(kind='hist', figsize=(10, 6), color='teal')\n",
    "        plt.title(\"Distribution of Closing PnL\")\n",
    "        plt.xlabel(\"Index\")\n",
    "        plt.ylabel(\"Density\")\n",
    "        plt.grid(axis='y', linestyle='--', alpha=0.7)\n",
    "        plt.show()\n",
    "\n",
    "\n",
    "     \n",
    "        "
   ]
  },
  {
   "cell_type": "markdown",
   "metadata": {},
   "source": [
    "##### We can choose now any day of the week, any time zone, and any threshold to analyse the graph"
   ]
  },
  {
   "cell_type": "code",
   "execution_count": 170,
   "metadata": {},
   "outputs": [
    {
     "name": "stderr",
     "output_type": "stream",
     "text": [
      "C:\\Users\\Guest_Account\\AppData\\Local\\Temp\\ipykernel_13664\\1759726698.py:21: SettingWithCopyWarning: \n",
      "A value is trying to be set on a copy of a slice from a DataFrame.\n",
      "Try using .loc[row_indexer,col_indexer] = value instead\n",
      "\n",
      "See the caveats in the documentation: https://pandas.pydata.org/pandas-docs/stable/user_guide/indexing.html#returning-a-view-versus-a-copy\n",
      "  day_filter['date'] = day_filter.index.normalize()\n"
     ]
    },
    {
     "data": {
      "image/png": "[encoded data removed]",
      "text/plain": [
       "<Figure size 1000x600 with 1 Axes>"
      ]
     },
     "metadata": {},
     "output_type": "display_data"
    }
   ],
   "source": [
    "weekday = 3\n",
    "start_time = '10:00'\n",
    "end_time = '10:15'\n",
    "threshold = -0.30\n",
    "\n",
    "analysis = DistributionAnalysis(dataframe=df_new, weekday=weekday, start_time=start_time, end_time=end_time, threshold=threshold)\n",
    "\n",
    "last_entries_series = analysis.day_pnl_filter()\n",
    "\n",
    "analysis.plot_pnl_dist(last_entries_series)\n"
   ]
  },
  {
   "cell_type": "markdown",
   "metadata": {},
   "source": [
    "##### Historical Probability of Ending in Negative PnL given we have have experienced the drop"
   ]
  },
  {
   "cell_type": "code",
   "execution_count": 171,
   "metadata": {},
   "outputs": [
    {
     "name": "stderr",
     "output_type": "stream",
     "text": [
      "C:\\Users\\Guest_Account\\AppData\\Local\\Temp\\ipykernel_13664\\1759726698.py:21: SettingWithCopyWarning: \n",
      "A value is trying to be set on a copy of a slice from a DataFrame.\n",
      "Try using .loc[row_indexer,col_indexer] = value instead\n",
      "\n",
      "See the caveats in the documentation: https://pandas.pydata.org/pandas-docs/stable/user_guide/indexing.html#returning-a-view-versus-a-copy\n",
      "  day_filter['date'] = day_filter.index.normalize()\n"
     ]
    },
    {
     "data": {
      "text/plain": [
       "Daily_Cumulative_PnL    0.482759\n",
       "dtype: float64"
      ]
     },
     "execution_count": 171,
     "metadata": {},
     "output_type": "execute_result"
    }
   ],
   "source": [
    "l_e = analysis.day_pnl_filter()\n",
    "l_e_neg = l_e[l_e<0].count()\n",
    "l_e_tot = l_e.count()\n",
    "ratio = l_e_neg / l_e_tot\n",
    "ratio"
   ]
  },
  {
   "cell_type": "code",
   "execution_count": null,
   "metadata": {},
   "outputs": [],
   "source": []
  }
 ],
 "metadata": {
  "kernelspec": {
   "display_name": "Python 3",
   "language": "python",
   "name": "python3"
  },
  "language_info": {
   "codemirror_mode": {
    "name": "ipython",
    "version": 3
   },
   "file_extension": ".py",
   "mimetype": "text/x-python",
   "name": "python",
   "nbconvert_exporter": "python",
   "pygments_lexer": "ipython3",
   "version": "3.12.4"
  }
 },
 "nbformat": 4,
 "nbformat_minor": 2
}
